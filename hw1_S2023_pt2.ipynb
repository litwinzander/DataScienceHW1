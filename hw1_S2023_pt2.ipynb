{
 "cells": [
  {
   "cell_type": "markdown",
   "metadata": {},
   "source": [
    "# Homework 1 Part 2\n",
    "\n",
    "\n",
    "This is an individual assignment."
   ]
  },
  {
   "cell_type": "markdown",
   "metadata": {},
   "source": [
    "## Description\n",
    "\n",
    "Create or edit this Jupyter Notebook to answer the questions below. Use simulations to answer these questions. An analytical solution can be useful to check if your simulation is correct but analytical solutions alone will not be accepted as a solution to a problem."
   ]
  },
  {
   "cell_type": "markdown",
   "metadata": {},
   "source": [
    "#### Problem 9\n",
    "\n",
    "Consider repeatedly rolling a fair 4-sided die.\n",
    "\n",
    "1. Create a simulation to compute the probability that the top face will be 4 at least once on four rolls of the die?\n",
    "2. Create a simulation to compute the probability that the top face will be 4 at least once on 20 rolls of the die?\n",
    "3. Create a simulation to compute how many rolls of the die would you have to do to be 90% confident that you would see at least one 4?\n",
    "4. Using the formula you have computed in problem 2 part 4, make a Python function that takes in the target value $p$ and outputs the required number of rolls of an integer. \n",
    "    1. Find the values for $p=0.95$ and $p=0.99$. \n",
    "    2. Use your simulation to verify that the number of rolls you specified is sufficient to achieve $p\\geq 0.95$."
   ]
  },
  {
   "cell_type": "code",
   "execution_count": 99,
   "metadata": {},
   "outputs": [],
   "source": [
    "import random\n",
    "import numpy as np\n",
    "import numpy.random as npr\n",
    "import math\n",
    "\n",
    "import matplotlib.pyplot as plt\n",
    "%matplotlib inline\n",
    "plt.style.use('ggplot')"
   ]
  },
  {
   "cell_type": "code",
   "execution_count": 100,
   "metadata": {},
   "outputs": [],
   "source": [
    "def rollFourSided(numRolls = 4, numSims = 1000):\n",
    "    faces = range(1,5)\n",
    "    fourRolls = 0\n",
    "    for sim in range(numSims):\n",
    "        event = 0\n",
    "        for rolls in range(numRolls):\n",
    "            roll = random.choice(faces)\n",
    "            if(roll == 4):\n",
    "                event += 1\n",
    "        if(event > 0):\n",
    "            fourRolls += 1\n",
    "    print('The probability of rolling a 4 at least once in', numRolls, 'rolls is', fourRolls/numSims)\n"
   ]
  },
  {
   "cell_type": "code",
   "execution_count": 101,
   "metadata": {},
   "outputs": [
    {
     "name": "stdout",
     "output_type": "stream",
     "text": [
      "The probability of rolling a 4 at least once in 4 rolls is 0.687\n"
     ]
    }
   ],
   "source": [
    "rollFourSided()"
   ]
  },
  {
   "cell_type": "code",
   "execution_count": 102,
   "metadata": {},
   "outputs": [
    {
     "name": "stdout",
     "output_type": "stream",
     "text": [
      "The probability of rolling a 4 at least once in 20 rolls is 0.998\n"
     ]
    }
   ],
   "source": [
    "rollFourSided(20)"
   ]
  },
  {
   "cell_type": "code",
   "execution_count": 103,
   "metadata": {},
   "outputs": [],
   "source": [
    "def findRollCount(prob = 0.9, numSims = 1000):\n",
    "    faces = range(1,5)\n",
    "    rollCount = 0\n",
    "    i = 1\n",
    "    while(True):\n",
    "        i += 1\n",
    "        event = 0\n",
    "        for sim in range(numSims):\n",
    "            fourCheck = False ##Ensures that if more than one fours shows up, its not double counted\n",
    "            for j in range(i):\n",
    "                roll=random.choice(faces)\n",
    "                if(roll == 4):\n",
    "                    fourCheck = True\n",
    "            if(fourCheck):\n",
    "                event += 1\n",
    "        probCheck = event/numSims\n",
    "        if(probCheck >= prob):\n",
    "            break\n",
    "            \n",
    "    print('The experimental number of rolls to reach a probability of', prob, 'that at least one four will show up is', i)        \n",
    "    "
   ]
  },
  {
   "cell_type": "code",
   "execution_count": 104,
   "metadata": {},
   "outputs": [
    {
     "name": "stdout",
     "output_type": "stream",
     "text": [
      "The experimental number of rolls to reach a probability of 0.9 that at least one four will show up is 9\n"
     ]
    }
   ],
   "source": [
    "findRollCount()"
   ]
  },
  {
   "cell_type": "code",
   "execution_count": 105,
   "metadata": {},
   "outputs": [],
   "source": [
    "def calculatedRollCount(prob = 0.95):\n",
    "    inverseProb = 1-prob\n",
    "    x = math.log(inverseProb, 0.75)\n",
    "    rolls = int (np.ceil(x))\n",
    "    print('The calculated number of rolls to reach a probability', prob, 'is', rolls)"
   ]
  },
  {
   "cell_type": "code",
   "execution_count": 106,
   "metadata": {},
   "outputs": [
    {
     "name": "stdout",
     "output_type": "stream",
     "text": [
      "The calculated number of rolls to reach a probability 0.95 is 11\n"
     ]
    }
   ],
   "source": [
    "calculatedRollCount()"
   ]
  },
  {
   "cell_type": "code",
   "execution_count": 107,
   "metadata": {},
   "outputs": [
    {
     "name": "stdout",
     "output_type": "stream",
     "text": [
      "The calculated number of rolls to reach a probability 0.99 is 17\n"
     ]
    }
   ],
   "source": [
    "calculatedRollCount(0.99)"
   ]
  },
  {
   "cell_type": "markdown",
   "metadata": {},
   "source": [
    "## Problem 10\n",
    "\n",
    "Create a simulation function where you will roll a fair 6-sided die twice. Use simulation to find out the probability of getting a 4,5, or 6 on the first toss and a 1,2,3 on the second toss. "
   ]
  },
  {
   "cell_type": "code",
   "execution_count": 108,
   "metadata": {},
   "outputs": [
    {
     "name": "stdout",
     "output_type": "stream",
     "text": [
      "Probability equals 0.24875\n"
     ]
    }
   ],
   "source": [
    "numSims = 100000\n",
    "event = 0\n",
    "for sim in range(numSims):\n",
    "    faces = range(1,7)\n",
    "    rollOne = random.choice(faces)\n",
    "    rollTwo = random.choice(faces)\n",
    "    if((rollOne > 3) and (rollTwo < 4)):\n",
    "        event += 1\n",
    "print('Probability equals', event/numSims)"
   ]
  },
  {
   "cell_type": "markdown",
   "metadata": {},
   "source": [
    "## Problem 11\n",
    "\n",
    "Suppose that you have a bag with 3 coins. One of them is a fair coin, but the others are biased trick coins. When flipped, the three coins come up heads with probability $\\frac{1}{2}$, $\\frac{1}{3}$, and $\\frac{1}{4}$, respectively.\n",
    "\n",
    "Consider the experiment where you pick one coin at random and flip it three times. Let $H_i$ be the event that the coin comes up heads on flip $i$. What is the probability of the outcome $H_1\\cap H_2\\cap \\overline{H_3}$?\n",
    "\n",
    "With small modification in your code, find out the probability of the outcome $H_1\\cap \\overline{H_2} \\cap \\overline{H_3}$.\n",
    "\n",
    "Use simulation to find out the probability."
   ]
  },
  {
   "cell_type": "code",
   "execution_count": 109,
   "metadata": {},
   "outputs": [],
   "source": [
    "def threeFlips(numSims = 1000):\n",
    "    event = 0\n",
    "    for sim in range(numSims):\n",
    "        coins = ['fair', 'biased', 'superBiased']\n",
    "        coin = random.choice(coins)\n",
    "        if(coin == 'fair'):\n",
    "            thisCoin = ['H','T']\n",
    "        if(coin == 'biased'):\n",
    "            thisCoin = ['H','T','T']\n",
    "        if(coin == 'superBiased'):\n",
    "            thisCoin = ['H','T','T','T']\n",
    "        flipOne = random.choice(thisCoin)\n",
    "        flipTwo = random.choice(thisCoin)\n",
    "        flipThree = random.choice(thisCoin)\n",
    "        if((flipOne == 'H') and (flipTwo == 'H') and (flipThree == 'T')):\n",
    "            event += 1\n",
    "    print('The probability of Heads, Heads, Tails is', event/numSims)\n",
    "    \n",
    "def threeFlipsTwo(numSims = 1000):\n",
    "    event = 0\n",
    "    for sim in range(numSims):\n",
    "        coins = ['fair', 'biased', 'superBiased']\n",
    "        coin = random.choice(coins)\n",
    "        if(coin == 'fair'):\n",
    "            thisCoin = ['H','T']\n",
    "        if(coin == 'biased'):\n",
    "            thisCoin = ['H','T','T']\n",
    "        if(coin == 'superBiased'):\n",
    "            thisCoin = ['H','T','T','T']\n",
    "        flipOne = random.choice(thisCoin)\n",
    "        flipTwo = random.choice(thisCoin)\n",
    "        flipThree = random.choice(thisCoin)\n",
    "        if((flipOne == 'H') and (flipTwo == 'T') and (flipThree == 'T')):\n",
    "            event += 1\n",
    "    print('The probability of Heads, Tails, Tails is', event/numSims)"
   ]
  },
  {
   "cell_type": "code",
   "execution_count": 110,
   "metadata": {},
   "outputs": [
    {
     "name": "stdout",
     "output_type": "stream",
     "text": [
      "The probability of Heads, Heads, Tails is 0.0805\n",
      "The probability of Heads, Tails, Tails is 0.136\n"
     ]
    }
   ],
   "source": [
    "threeFlips(10000)\n",
    "threeFlipsTwo(10000)"
   ]
  },
  {
   "cell_type": "markdown",
   "metadata": {},
   "source": [
    "# Submit Your Solutions\n",
    "\n",
    "Confirm that you've successfully completed the assignment.\n",
    "\n",
    "Along with the Notebook, include a PDF of the notebook with your solutions.\n",
    "\n",
    "```add``` and ```commit``` the final version of your work, and ```push``` your PDF file to your GitHub repository.\n",
    "\n",
    "Submit the URL of your GitHub Repository as your assignment submission on Canvas."
   ]
  }
 ],
 "metadata": {
  "kernelspec": {
   "display_name": "Python 3 (ipykernel)",
   "language": "python",
   "name": "python3"
  },
  "language_info": {
   "codemirror_mode": {
    "name": "ipython",
    "version": 3
   },
   "file_extension": ".py",
   "mimetype": "text/x-python",
   "name": "python",
   "nbconvert_exporter": "python",
   "pygments_lexer": "ipython3",
   "version": "3.9.13"
  },
  "latex_envs": {
   "LaTeX_envs_menu_present": true,
   "autoclose": false,
   "autocomplete": true,
   "bibliofile": "biblio.bib",
   "cite_by": "apalike",
   "current_citInitial": 1,
   "eqLabelWithNumbers": true,
   "eqNumInitial": 1,
   "hotkeys": {
    "equation": "Ctrl-E",
    "itemize": "Ctrl-I"
   },
   "labels_anchors": false,
   "latex_user_defs": false,
   "report_style_numbering": false,
   "user_envs_cfg": false
  },
  "varInspector": {
   "cols": {
    "lenName": 16,
    "lenType": 16,
    "lenVar": 40
   },
   "kernels_config": {
    "python": {
     "delete_cmd_postfix": "",
     "delete_cmd_prefix": "del ",
     "library": "var_list.py",
     "varRefreshCmd": "print(var_dic_list())"
    },
    "r": {
     "delete_cmd_postfix": ") ",
     "delete_cmd_prefix": "rm(",
     "library": "var_list.r",
     "varRefreshCmd": "cat(var_dic_list()) "
    }
   },
   "types_to_exclude": [
    "module",
    "function",
    "builtin_function_or_method",
    "instance",
    "_Feature"
   ],
   "window_display": false
  }
 },
 "nbformat": 4,
 "nbformat_minor": 4
}
